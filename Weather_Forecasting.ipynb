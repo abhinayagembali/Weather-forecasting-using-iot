{
  "nbformat": 4,
  "nbformat_minor": 0,
  "metadata": {
    "colab": {
      "provenance": []
    },
    "kernelspec": {
      "name": "python3",
      "display_name": "Python 3"
    },
    "language_info": {
      "name": "python"
    }
  },
  "cells": [
    {
      "cell_type": "markdown",
      "source": [
        "# Linear Regression"
      ],
      "metadata": {
        "id": "OlwcLffSETL7"
      }
    },
    {
      "cell_type": "code",
      "execution_count": 1,
      "metadata": {
        "colab": {
          "base_uri": "https://localhost:8080/"
        },
        "id": "08jHgkyPBdCi",
        "outputId": "73a4bb0f-a126-4b0b-cb24-04de2132ccc7"
      },
      "outputs": [
        {
          "output_type": "stream",
          "name": "stdout",
          "text": [
            "Training MAE: 0.7423432159855268\n",
            "Testing MAE: 0.7424884675250581\n",
            "Training MSE: 0.9009774234926139\n",
            "Testing MSE: 0.8991261680288706\n",
            "Training RMSE: 0.9491983056730632\n",
            "Testing RMSE: 0.9482226363195885\n",
            "Training R2 Score: 0.9900989693575541\n",
            "Testing R2 Score: 0.9902437799522333\n"
          ]
        }
      ],
      "source": [
        "import pandas as pd\n",
        "import numpy as np\n",
        "from sklearn.model_selection import train_test_split\n",
        "from sklearn.linear_model import LinearRegression\n",
        "from sklearn.metrics import mean_absolute_error, mean_squared_error, r2_score\n",
        "import matplotlib.pyplot as plt\n",
        "\n",
        "# Load the dataset\n",
        "file_path = 'weatherHistory.csv'\n",
        "data = pd.read_csv(file_path)\n",
        "\n",
        "# Data Preprocessing\n",
        "# Drop rows with missing values (if any)\n",
        "data.dropna(inplace=True)\n",
        "\n",
        "# Select features and target variable\n",
        "X = data.drop(columns=['Temperature (C)', 'Formatted Date'])\n",
        "y = data['Temperature (C)']\n",
        "\n",
        "# Split the dataset into training and testing sets\n",
        "X_train, X_test, y_train, y_test = train_test_split(X, y, test_size=0.2, random_state=42)\n",
        "\n",
        "# Perform Linear Regression\n",
        "model = LinearRegression()\n",
        "model.fit(X_train, y_train)\n",
        "\n",
        "# Make predictions\n",
        "y_pred_train = model.predict(X_train)\n",
        "y_pred_test = model.predict(X_test)\n",
        "\n",
        "# Evaluate the model\n",
        "train_mae = mean_absolute_error(y_train, y_pred_train)\n",
        "test_mae = mean_absolute_error(y_test, y_pred_test)\n",
        "\n",
        "train_mse = mean_squared_error(y_train, y_pred_train)\n",
        "test_mse = mean_squared_error(y_test, y_pred_test)\n",
        "\n",
        "train_rmse = np.sqrt(train_mse)\n",
        "test_rmse = np.sqrt(test_mse)\n",
        "\n",
        "train_r2 = r2_score(y_train, y_pred_train)\n",
        "test_r2 = r2_score(y_test, y_pred_test)\n",
        "\n",
        "print(f'Training MAE: {train_mae}')\n",
        "print(f'Testing MAE: {test_mae}')\n",
        "print(f'Training MSE: {train_mse}')\n",
        "print(f'Testing MSE: {test_mse}')\n",
        "print(f'Training RMSE: {train_rmse}')\n",
        "print(f'Testing RMSE: {test_rmse}')\n",
        "print(f'Training R2 Score: {train_r2}')\n",
        "print(f'Testing R2 Score: {test_r2}')\n"
      ]
    },
    {
      "cell_type": "markdown",
      "source": [
        "# Ridge Regression\n"
      ],
      "metadata": {
        "id": "Xlz7ddUBEo3U"
      }
    },
    {
      "cell_type": "code",
      "source": [
        "import pandas as pd\n",
        "import numpy as np\n",
        "from sklearn.model_selection import train_test_split\n",
        "from sklearn.linear_model import Ridge\n",
        "from sklearn.metrics import mean_absolute_error, mean_squared_error, r2_score\n",
        "import matplotlib.pyplot as plt\n",
        "\n",
        "# Load the dataset\n",
        "file_path = 'weatherHistory.csv'\n",
        "data = pd.read_csv(file_path)\n",
        "\n",
        "# Data Preprocessing\n",
        "# Drop rows with missing values (if any)\n",
        "data.dropna(inplace=True)\n",
        "\n",
        "# Select features and target variable\n",
        "X = data.drop(columns=['Temperature (C)', 'Formatted Date'])\n",
        "y = data['Temperature (C)']\n",
        "\n",
        "# Split the dataset into training and testing sets\n",
        "X_train, X_test, y_train, y_test = train_test_split(X, y, test_size=0.2, random_state=42)\n",
        "\n",
        "# Perform Ridge Regression\n",
        "alpha = 1.0  # Regularization strength, you can adjust this parameter\n",
        "model = Ridge(alpha=alpha)\n",
        "model.fit(X_train, y_train)\n",
        "\n",
        "# Make predictions\n",
        "y_pred_train = model.predict(X_train)\n",
        "y_pred_test = model.predict(X_test)\n",
        "\n",
        "# Evaluate the model\n",
        "train_mae = mean_absolute_error(y_train, y_pred_train)\n",
        "test_mae = mean_absolute_error(y_test, y_pred_test)\n",
        "\n",
        "train_mse = mean_squared_error(y_train, y_pred_train)\n",
        "test_mse = mean_squared_error(y_test, y_pred_test)\n",
        "\n",
        "train_rmse = np.sqrt(train_mse)\n",
        "test_rmse = np.sqrt(test_mse)\n",
        "\n",
        "train_r2 = r2_score(y_train, y_pred_train)\n",
        "test_r2 = r2_score(y_test, y_pred_test)\n",
        "\n",
        "print(f'Training MAE: {train_mae}')\n",
        "print(f'Testing MAE: {test_mae}')\n",
        "print(f'Training MSE: {train_mse}')\n",
        "print(f'Testing MSE: {test_mse}')\n",
        "print(f'Training RMSE: {train_rmse}')\n",
        "print(f'Testing RMSE: {test_rmse}')\n",
        "print(f'Training R2 Score: {train_r2}')\n",
        "print(f'Testing R2 Score: {test_r2}')\n"
      ],
      "metadata": {
        "colab": {
          "base_uri": "https://localhost:8080/"
        },
        "id": "5YL1tAiEErLG",
        "outputId": "668de397-789a-48ca-f349-749eac1e4f12"
      },
      "execution_count": 2,
      "outputs": [
        {
          "output_type": "stream",
          "name": "stdout",
          "text": [
            "Training MAE: 0.7423407654046691\n",
            "Testing MAE: 0.742485963761088\n",
            "Training MSE: 0.9009774392688621\n",
            "Testing MSE: 0.8991270908407344\n",
            "Training RMSE: 0.9491983139833646\n",
            "Testing RMSE: 0.9482231229203042\n",
            "Training R2 Score: 0.9900989691841856\n",
            "Testing R2 Score: 0.990243769939005\n"
          ]
        }
      ]
    },
    {
      "cell_type": "markdown",
      "source": [
        "# Lasso Regression"
      ],
      "metadata": {
        "id": "H-5XuDz0HQAs"
      }
    },
    {
      "cell_type": "code",
      "source": [
        "import pandas as pd\n",
        "import numpy as np\n",
        "from sklearn.model_selection import train_test_split\n",
        "from sklearn.linear_model import Lasso  # Lasso\n",
        "from sklearn.metrics import mean_absolute_error, mean_squared_error, r2_score\n",
        "import matplotlib.pyplot as plt\n",
        "\n",
        "# Load the dataset\n",
        "file_path = 'weatherHistory.csv'\n",
        "data = pd.read_csv(file_path)\n",
        "\n",
        "# Data Preprocessing\n",
        "# Drop rows with missing values (if any)\n",
        "data.dropna(inplace=True)\n",
        "\n",
        "# Select features and target variable\n",
        "X = data.drop(columns=['Temperature (C)', 'Formatted Date'])\n",
        "y = data['Temperature (C)']\n",
        "\n",
        "# Split the dataset into training and testing sets\n",
        "X_train, X_test, y_train, y_test = train_test_split(X, y, test_size=0.2, random_state=42)\n",
        "\n",
        "# Perform Lasso Regression\n",
        "alpha = 1.0  # Regularization strength, you can adjust this parameter\n",
        "model = Lasso(alpha=alpha)  # Use Lasso\n",
        "model.fit(X_train, y_train)\n",
        "\n",
        "# Make predictions\n",
        "y_pred_train = model.predict(X_train)\n",
        "y_pred_test = model.predict(X_test)\n",
        "\n",
        "# Evaluate the model\n",
        "train_mae = mean_absolute_error(y_train, y_pred_train)\n",
        "test_mae = mean_absolute_error(y_test, y_pred_test)\n",
        "\n",
        "train_mse = mean_squared_error(y_train, y_pred_train)\n",
        "test_mse = mean_squared_error(y_test, y_pred_test)\n",
        "\n",
        "train_rmse = np.sqrt(train_mse)\n",
        "test_rmse = np.sqrt(test_mse)\n",
        "\n",
        "train_r2 = r2_score(y_train, y_pred_train)\n",
        "test_r2 = r2_score(y_test, y_pred_test)\n",
        "\n",
        "print(f'Training MAE: {train_mae}')\n",
        "print(f'Testing MAE: {test_mae}')\n",
        "print(f'Training MSE: {train_mse}')\n",
        "print(f'Testing MSE: {test_mse}')\n",
        "print(f'Training RMSE: {train_rmse}')\n",
        "print(f'Testing RMSE: {test_rmse}')\n",
        "print(f'Training R2 Score: {train_r2}')\n",
        "print(f'Testing R2 Score: {test_r2}')\n"
      ],
      "metadata": {
        "colab": {
          "base_uri": "https://localhost:8080/"
        },
        "id": "DnzGMTdnGQzf",
        "outputId": "2e2c479a-afb1-4e13-c070-09988d693df1"
      },
      "execution_count": 3,
      "outputs": [
        {
          "output_type": "stream",
          "name": "stdout",
          "text": [
            "Training MAE: 0.767020779533532\n",
            "Testing MAE: 0.7671632935657519\n",
            "Training MSE: 0.9798119431397184\n",
            "Testing MSE: 0.9788272422168836\n",
            "Training RMSE: 0.9898545060460746\n",
            "Testing RMSE: 0.9893569842159521\n",
            "Training R2 Score: 0.9892326402194912\n",
            "Testing R2 Score: 0.9893789611476308\n"
          ]
        }
      ]
    },
    {
      "cell_type": "markdown",
      "source": [
        "# Polynomial Regression"
      ],
      "metadata": {
        "id": "eKQ2tfEAEjf4"
      }
    },
    {
      "cell_type": "code",
      "source": [
        "import pandas as pd\n",
        "import numpy as np\n",
        "from sklearn.model_selection import train_test_split\n",
        "from sklearn.preprocessing import PolynomialFeatures\n",
        "from sklearn.linear_model import LinearRegression\n",
        "from sklearn.metrics import mean_absolute_error, mean_squared_error, r2_score\n",
        "import matplotlib.pyplot as plt\n",
        "\n",
        "# Load the dataset\n",
        "file_path = 'weatherHistory.csv'\n",
        "data = pd.read_csv(file_path)\n",
        "\n",
        "# Data Preprocessing\n",
        "# Drop rows with missing values (if any)\n",
        "data.dropna(inplace=True)\n",
        "\n",
        "# Select features and target variable\n",
        "X = data.drop(columns=['Temperature (C)', 'Formatted Date'])\n",
        "y = data['Temperature (C)']\n",
        "\n",
        "# Split the dataset into training and testing sets\n",
        "X_train, X_test, y_train, y_test = train_test_split(X, y, test_size=0.2, random_state=42)\n",
        "\n",
        "# Transform features for Polynomial Regression\n",
        "degree = 2  # You can change the degree to fit higher order polynomials\n",
        "poly = PolynomialFeatures(degree)\n",
        "X_train_poly = poly.fit_transform(X_train)\n",
        "X_test_poly = poly.transform(X_test)\n",
        "\n",
        "# Perform Polynomial Regression\n",
        "model = LinearRegression()\n",
        "model.fit(X_train_poly, y_train)\n",
        "\n",
        "# Make predictions\n",
        "y_pred_train = model.predict(X_train_poly)\n",
        "y_pred_test = model.predict(X_test_poly)\n",
        "\n",
        "# Evaluate the model\n",
        "train_mae = mean_absolute_error(y_train, y_pred_train)\n",
        "test_mae = mean_absolute_error(y_test, y_pred_test)\n",
        "\n",
        "train_mse = mean_squared_error(y_train, y_pred_train)\n",
        "test_mse = mean_squared_error(y_test, y_pred_test)\n",
        "\n",
        "train_rmse = np.sqrt(train_mse)\n",
        "test_rmse = np.sqrt(test_mse)\n",
        "\n",
        "train_r2 = r2_score(y_train, y_pred_train)\n",
        "test_r2 = r2_score(y_test, y_pred_test)\n",
        "\n",
        "print(f'Training MAE: {train_mae}')\n",
        "print(f'Testing MAE: {test_mae}')\n",
        "print(f'Training MSE: {train_mse}')\n",
        "print(f'Testing MSE: {test_mse}')\n",
        "print(f'Training RMSE: {train_rmse}')\n",
        "print(f'Testing RMSE: {test_rmse}')\n",
        "print(f'Training R2 Score: {train_r2}')\n",
        "print(f'Testing R2 Score: {test_r2}')\n"
      ],
      "metadata": {
        "colab": {
          "base_uri": "https://localhost:8080/"
        },
        "id": "AaPy3vwpCHjp",
        "outputId": "2c45e9e1-f9ce-4768-d264-ff7fdbc407ad"
      },
      "execution_count": 4,
      "outputs": [
        {
          "output_type": "stream",
          "name": "stdout",
          "text": [
            "Training MAE: 0.41186256471925037\n",
            "Testing MAE: 0.4107414926080123\n",
            "Training MSE: 0.30095790652046744\n",
            "Testing MSE: 0.29491923649807594\n",
            "Training RMSE: 0.5485963056022775\n",
            "Testing RMSE: 0.5430646706406852\n",
            "Training R2 Score: 0.9966927101869052\n",
            "Testing R2 Score: 0.9967998963105452\n"
          ]
        }
      ]
    },
    {
      "cell_type": "code",
      "source": [
        "# Save the model\n",
        "from joblib import dump, load  # Importing joblib for saving and loading models\n",
        "model_file = 'polynomial_regression_model.joblib'\n",
        "dump(model, model_file)\n",
        "print(f\"Model saved as {model_file}\")\n"
      ],
      "metadata": {
        "colab": {
          "base_uri": "https://localhost:8080/"
        },
        "id": "kap1OnAAIn5N",
        "outputId": "718fb461-e790-4bd8-de04-1a0dd5b326ff"
      },
      "execution_count": 5,
      "outputs": [
        {
          "output_type": "stream",
          "name": "stdout",
          "text": [
            "Model saved as polynomial_regression_model.joblib\n"
          ]
        }
      ]
    },
    {
      "cell_type": "code",
      "source": [
        "# Plotting the results\n",
        "plt.figure(figsize=(10, 5))\n",
        "plt.scatter(y_train, y_pred_train, color='blue', label='Training Data')\n",
        "plt.scatter(y_test, y_pred_test, color='red', label='Testing Data')\n",
        "plt.xlabel('Actual Temperature (C)')\n",
        "plt.ylabel('Predicted Temperature (C)')\n",
        "plt.title('Polynomial Regression (Degree {degree}): Predicted vs Actual Temperature')\n",
        "plt.legend()\n",
        "plt.show()"
      ],
      "metadata": {
        "colab": {
          "base_uri": "https://localhost:8080/",
          "height": 487
        },
        "id": "atxwDYHbInfK",
        "outputId": "5fde3987-c5f4-4397-a6ff-0622d78e7afb"
      },
      "execution_count": 6,
      "outputs": [
        {
          "output_type": "display_data",
          "data": {
            "text/plain": [
              "<Figure size 1000x500 with 1 Axes>"
            ],
            "image/png": "[encoded data removed]"
          },
          "metadata": {}
        }
      ]
    }
  ]
}